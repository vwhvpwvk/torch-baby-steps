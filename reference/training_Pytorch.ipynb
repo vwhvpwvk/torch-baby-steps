{
  "cells": [
    {
      "cell_type": "code",
      "execution_count": null,
      "metadata": {
        "id": "G7lmvgZ8ituZ"
      },
      "outputs": [],
      "source": [
        "# For tips on running notebooks in Google Colab, see\n",
        "# https://pytorch.org/tutorials/beginner/colab\n",
        "%matplotlib inline"
      ]
    },
    {
      "cell_type": "markdown",
      "metadata": {
        "id": "f9jzFnikitua"
      },
      "source": [
        "[Introduction](introyt1_tutorial.html) \\|\\|\n",
        "[Tensors](tensors_deeper_tutorial.html) \\|\\|\n",
        "[Autograd](autogradyt_tutorial.html) \\|\\| [Building\n",
        "Models](modelsyt_tutorial.html) \\|\\| [TensorBoard\n",
        "Support](tensorboardyt_tutorial.html) \\|\\| **Training Models** \\|\\|\n",
        "[Model Understanding](captumyt.html)\n",
        "\n",
        "Training with PyTorch\n",
        "=====================\n",
        "\n",
        "Follow along with the video below or on\n",
        "[youtube](https://www.youtube.com/watch?v=jF43_wj_DCQ).\n",
        "\n"
      ]
    },
    {
      "cell_type": "code",
      "execution_count": null,
      "metadata": {
        "id": "e7355df9",
        "colab": {
          "base_uri": "https://localhost:8080/",
          "height": 376
        },
        "outputId": "3e41497b-1ebb-44c2-fe32-2b3b9d863cf7"
      },
      "outputs": [
        {
          "output_type": "display_data",
          "data": {
            "text/plain": [
              "<IPython.core.display.HTML object>"
            ],
            "text/html": [
              "\n",
              "<div style=\"margin-top:10px; margin-bottom:10px;\">\n",
              "  <iframe width=\"560\" height=\"315\" src=\"https://www.youtube.com/embed/jF43_wj_DCQ\" frameborder=\"0\" allow=\"accelerometer; encrypted-media; gyroscope; picture-in-picture\" allowfullscreen></iframe>\n",
              "</div>\n"
            ]
          },
          "metadata": {}
        }
      ],
      "source": [
        "# Run this cell to load the video\n",
        "from IPython.display import display, HTML\n",
        "html_code = \"\"\"\n",
        "<div style=\"margin-top:10px; margin-bottom:10px;\">\n",
        "  <iframe width=\"560\" height=\"315\" src=\"https://www.youtube.com/embed/jF43_wj_DCQ\" frameborder=\"0\" allow=\"accelerometer; encrypted-media; gyroscope; picture-in-picture\" allowfullscreen></iframe>\n",
        "</div>\n",
        "\"\"\"\n",
        "display(HTML(html_code))"
      ]
    },
    {
      "cell_type": "markdown",
      "metadata": {
        "id": "3a8b0583"
      },
      "source": [
        "\n",
        "\n",
        "Introduction\n",
        "------------\n",
        "\n",
        "In past videos, we've discussed and demonstrated:\n",
        "\n",
        "-   Building models with the neural network layers and functions of the\n",
        "    torch.nn module\n",
        "-   The mechanics of automated gradient computation, which is central to\n",
        "    gradient-based model training\n",
        "-   Using TensorBoard to visualize training progress and other\n",
        "    activities\n",
        "\n",
        "In this video, we'll be adding some new tools to your inventory:\n",
        "\n",
        "-   We'll get familiar with the dataset and dataloader abstractions, and\n",
        "    how they ease the process of feeding data to your model during a\n",
        "    training loop\n",
        "-   We'll discuss specific loss functions and when to use them\n",
        "-   We'll look at PyTorch optimizers, which implement algorithms to\n",
        "    adjust model weights based on the outcome of a loss function\n",
        "\n",
        "Finally, we'll pull all of these together and see a full PyTorch\n",
        "training loop in action.\n",
        "\n",
        "Dataset and DataLoader\n",
        "----------------------\n",
        "\n",
        "The `Dataset` and `DataLoader` classes encapsulate the process of\n",
        "pulling your data from storage and exposing it to your training loop in\n",
        "batches.\n",
        "\n",
        "The `Dataset` is responsible for accessing and processing single\n",
        "instances of data.\n",
        "\n",
        "The `DataLoader` pulls instances of data from the `Dataset` (either\n",
        "automatically or with a sampler that you define), collects them in\n",
        "batches, and returns them for consumption by your training loop. The\n",
        "`DataLoader` works with all kinds of datasets, regardless of the type of\n",
        "data they contain.\n",
        "\n",
        "For this tutorial, we'll be using the Fashion-MNIST dataset provided by\n",
        "TorchVision. We use `torchvision.transforms.Normalize()` to zero-center\n",
        "and normalize the distribution of the image tile content, and download\n",
        "both training and validation data splits.\n"
      ]
    },
    {
      "cell_type": "code",
      "execution_count": null,
      "metadata": {
        "id": "R_EPKnp0ituc",
        "colab": {
          "base_uri": "https://localhost:8080/"
        },
        "outputId": "384ab226-5134-4b92-a209-2ac20d298f92"
      },
      "outputs": [
        {
          "output_type": "stream",
          "name": "stderr",
          "text": [
            "100%|██████████| 26.4M/26.4M [00:02<00:00, 11.1MB/s]\n",
            "100%|██████████| 29.5k/29.5k [00:00<00:00, 173kB/s]\n",
            "100%|██████████| 4.42M/4.42M [00:01<00:00, 3.24MB/s]\n",
            "100%|██████████| 5.15k/5.15k [00:00<00:00, 14.9MB/s]"
          ]
        },
        {
          "output_type": "stream",
          "name": "stdout",
          "text": [
            "Training set has 60000 instances\n",
            "Validation set has 10000 instances\n"
          ]
        },
        {
          "output_type": "stream",
          "name": "stderr",
          "text": [
            "\n"
          ]
        }
      ],
      "source": [
        "import torch\n",
        "import torchvision\n",
        "import torchvision.transforms as transforms\n",
        "\n",
        "# PyTorch TensorBoard support\n",
        "from torch.utils.tensorboard import SummaryWriter\n",
        "from datetime import datetime\n",
        "\n",
        "\n",
        "transform = transforms.Compose(\n",
        "    [transforms.ToTensor(),\n",
        "    transforms.Normalize((0.5,), (0.5,))])\n",
        "\n",
        "# Create datasets for training & validation, download if necessary\n",
        "training_set = torchvision.datasets.FashionMNIST('./data', train=True, transform=transform, download=True)\n",
        "validation_set = torchvision.datasets.FashionMNIST('./data', train=False, transform=transform, download=True)\n",
        "\n",
        "# Create data loaders for our datasets; shuffle for training, not for validation\n",
        "training_loader = torch.utils.data.DataLoader(training_set, batch_size=4, shuffle=True)\n",
        "validation_loader = torch.utils.data.DataLoader(validation_set, batch_size=4, shuffle=False)\n",
        "\n",
        "# Class labels\n",
        "classes = ('T-shirt/top', 'Trouser', 'Pullover', 'Dress', 'Coat',\n",
        "        'Sandal', 'Shirt', 'Sneaker', 'Bag', 'Ankle Boot')\n",
        "\n",
        "# Report split sizes\n",
        "print('Training set has {} instances'.format(len(training_set)))\n",
        "print('Validation set has {} instances'.format(len(validation_set)))"
      ]
    },
    {
      "cell_type": "markdown",
      "metadata": {
        "id": "kqQVjsypituc"
      },
      "source": [
        "As always, let's visualize the data as a sanity check:\n"
      ]
    },
    {
      "cell_type": "code",
      "execution_count": null,
      "metadata": {
        "id": "qtKBVoO3itud",
        "colab": {
          "base_uri": "https://localhost:8080/",
          "height": 122
        },
        "outputId": "64a408d2-b7c5-4dd1-844b-5332229ddaab"
      },
      "outputs": [
        {
          "output_type": "stream",
          "name": "stdout",
          "text": [
            "Coat  T-shirt/top  Dress  Coat\n"
          ]
        },
        {
          "output_type": "display_data",
          "data": {
            "text/plain": [
              "<Figure size 640x480 with 1 Axes>"
            ],
            "image/png": "[encoded data removed]"
          },
          "metadata": {}
        }
      ],
      "source": [
        "import matplotlib.pyplot as plt\n",
        "import numpy as np\n",
        "\n",
        "# Helper function for inline image display\n",
        "def matplotlib_imshow(img, one_channel=False):\n",
        "    if one_channel:\n",
        "        img = img.mean(dim=0)\n",
        "    img = img / 2 + 0.5     # unnormalize\n",
        "    npimg = img.numpy()\n",
        "    if one_channel:\n",
        "        plt.imshow(npimg, cmap=\"Greys\")\n",
        "    else:\n",
        "        plt.imshow(np.transpose(npimg, (1, 2, 0)))\n",
        "\n",
        "dataiter = iter(training_loader)\n",
        "images, labels = next(dataiter)\n",
        "\n",
        "# Create a grid from the images and show them\n",
        "img_grid = torchvision.utils.make_grid(images)\n",
        "matplotlib_imshow(img_grid, one_channel=True)\n",
        "print('  '.join(classes[labels[j]] for j in range(4)))"
      ]
    },
    {
      "cell_type": "markdown",
      "metadata": {
        "id": "7YGR8TF0itud"
      },
      "source": [
        "The Model\n",
        "=========\n",
        "\n",
        "The model we'll use in this example is a variant of LeNet-5 - it should\n",
        "be familiar if you've watched the previous videos in this series.\n"
      ]
    },
    {
      "cell_type": "code",
      "execution_count": null,
      "metadata": {
        "id": "qhuYU3LEitue"
      },
      "outputs": [],
      "source": [
        "import torch.nn as nn\n",
        "import torch.nn.functional as F\n",
        "\n",
        "# PyTorch models inherit from torch.nn.Module\n",
        "class GarmentClassifier(nn.Module):\n",
        "    def __init__(self):\n",
        "        super(GarmentClassifier, self).__init__()\n",
        "        self.conv1 = nn.Conv2d(1, 6, 5)\n",
        "        self.pool = nn.MaxPool2d(2, 2)\n",
        "        self.conv2 = nn.Conv2d(6, 16, 5)\n",
        "        self.fc1 = nn.Linear(16 * 4 * 4, 120)\n",
        "        self.fc2 = nn.Linear(120, 84)\n",
        "        self.fc3 = nn.Linear(84, 10)\n",
        "\n",
        "    def forward(self, x):\n",
        "        x = self.pool(F.relu(self.conv1(x)))\n",
        "        x = self.pool(F.relu(self.conv2(x)))\n",
        "        x = x.view(-1, 16 * 4 * 4)\n",
        "        x = F.relu(self.fc1(x))\n",
        "        x = F.relu(self.fc2(x))\n",
        "        x = self.fc3(x)\n",
        "        return x\n",
        "\n",
        "\n",
        "model = GarmentClassifier()"
      ]
    },
    {
      "cell_type": "markdown",
      "metadata": {
        "id": "8z2zVQ1Hitue"
      },
      "source": [
        "Loss Function\n",
        "=============\n",
        "\n",
        "For this example, we'll be using a cross-entropy loss. For demonstration\n",
        "purposes, we'll create batches of dummy output and label values, run\n",
        "them through the loss function, and examine the result.\n"
      ]
    },
    {
      "cell_type": "code",
      "execution_count": null,
      "metadata": {
        "id": "EtRJ4Xs2itue",
        "colab": {
          "base_uri": "https://localhost:8080/"
        },
        "outputId": "973dfb83-7734-43a9-c726-3cd8af9409f0"
      },
      "outputs": [
        {
          "output_type": "stream",
          "name": "stdout",
          "text": [
            "tensor([[0.6152, 0.4812, 0.9374, 0.1415, 0.1863, 0.7845, 0.8262, 0.9184, 0.8155,\n",
            "         0.7112],\n",
            "        [0.3991, 0.6586, 0.1386, 0.3985, 0.2579, 0.9311, 0.6604, 0.1607, 0.2373,\n",
            "         0.0448],\n",
            "        [0.0319, 0.0354, 0.3964, 0.7067, 0.9016, 0.3067, 0.2845, 0.0961, 0.8475,\n",
            "         0.4225],\n",
            "        [0.2195, 0.6230, 0.8511, 0.0377, 0.5920, 0.8700, 0.3960, 0.3115, 0.6473,\n",
            "         0.2347]])\n",
            "tensor([1, 5, 3, 7])\n",
            "Total loss for this batch: 2.211524724960327\n"
          ]
        }
      ],
      "source": [
        "loss_fn = torch.nn.CrossEntropyLoss()\n",
        "\n",
        "# NB: Loss functions expect data in batches, so we're creating batches of 4\n",
        "# Represents the model's confidence in each of the 10 classes for a given input\n",
        "dummy_outputs = torch.rand(4, 10)\n",
        "# Represents the correct class among the 10 being tested\n",
        "dummy_labels = torch.tensor([1, 5, 3, 7])\n",
        "\n",
        "print(dummy_outputs)\n",
        "print(dummy_labels)\n",
        "\n",
        "loss = loss_fn(dummy_outputs, dummy_labels)\n",
        "print('Total loss for this batch: {}'.format(loss.item()))"
      ]
    },
    {
      "cell_type": "markdown",
      "metadata": {
        "id": "bm6qDvofitue"
      },
      "source": [
        "Optimizer\n",
        "=========\n",
        "\n",
        "For this example, we'll be using simple [stochastic gradient\n",
        "descent](https://pytorch.org/docs/stable/optim.html) with momentum.\n",
        "\n",
        "It can be instructive to try some variations on this optimization\n",
        "scheme:\n",
        "\n",
        "-   Learning rate determines the size of the steps the optimizer takes.\n",
        "    What does a different learning rate do to the your training results,\n",
        "    in terms of accuracy and convergence time?\n",
        "-   Momentum nudges the optimizer in the direction of strongest gradient\n",
        "    over multiple steps. What does changing this value do to your\n",
        "    results?\n",
        "-   Try some different optimization algorithms, such as averaged SGD,\n",
        "    Adagrad, or Adam. How do your results differ?\n"
      ]
    },
    {
      "cell_type": "code",
      "execution_count": null,
      "metadata": {
        "id": "ulIP-1O2ituf"
      },
      "outputs": [],
      "source": [
        "# Optimizers specified in the torch.optim package\n",
        "optimizer = torch.optim.SGD(model.parameters(), lr=0.001, momentum=0.9)"
      ]
    },
    {
      "cell_type": "markdown",
      "metadata": {
        "id": "bcoGT2loituf"
      },
      "source": [
        "The Training Loop\n",
        "=================\n",
        "\n",
        "Below, we have a function that performs one training epoch. It\n",
        "enumerates data from the DataLoader, and on each pass of the loop does\n",
        "the following:\n",
        "\n",
        "-   Gets a batch of training data from the DataLoader\n",
        "-   Zeros the optimizer's gradients\n",
        "-   Performs an inference - that is, gets predictions from the model for\n",
        "    an input batch\n",
        "-   Calculates the loss for that set of predictions vs. the labels on\n",
        "    the dataset\n",
        "-   Calculates the backward gradients over the learning weights\n",
        "-   Tells the optimizer to perform one learning step - that is, adjust\n",
        "    the model's learning weights based on the observed gradients for\n",
        "    this batch, according to the optimization algorithm we chose\n",
        "-   It reports on the loss for every 1000 batches.\n",
        "-   Finally, it reports the average per-batch loss for the last 1000\n",
        "    batches, for comparison with a validation run\n"
      ]
    },
    {
      "cell_type": "code",
      "execution_count": null,
      "metadata": {
        "id": "PxXHYnSXituf"
      },
      "outputs": [],
      "source": [
        "def train_one_epoch(epoch_index, tb_writer):\n",
        "    running_loss = 0.\n",
        "    last_loss = 0.\n",
        "\n",
        "    # Here, we use enumerate(training_loader) instead of\n",
        "    # iter(training_loader) so that we can track the batch\n",
        "    # index and do some intra-epoch reporting\n",
        "    for i, data in enumerate(training_loader):\n",
        "        # Every data instance is an input + label pair\n",
        "        inputs, labels = data\n",
        "\n",
        "        # Zero your gradients for every batch!\n",
        "        optimizer.zero_grad()\n",
        "\n",
        "        # Make predictions for this batch\n",
        "        outputs = model(inputs)\n",
        "\n",
        "        # Compute the loss and its gradients\n",
        "        loss = loss_fn(outputs, labels)\n",
        "        loss.backward()\n",
        "\n",
        "        # Adjust learning weights\n",
        "        optimizer.step()\n",
        "\n",
        "        # Gather data and report\n",
        "        running_loss += loss.item()\n",
        "        if i % 1000 == 999:\n",
        "            last_loss = running_loss / 1000 # loss per batch\n",
        "            print('  batch {} loss: {}'.format(i + 1, last_loss))\n",
        "            tb_x = epoch_index * len(training_loader) + i + 1\n",
        "            tb_writer.add_scalar('Loss/train', last_loss, tb_x)\n",
        "            running_loss = 0.\n",
        "\n",
        "    return last_loss"
      ]
    },
    {
      "cell_type": "markdown",
      "metadata": {
        "id": "pbyJs-IAituf"
      },
      "source": [
        "Per-Epoch Activity\n",
        "==================\n",
        "\n",
        "There are a couple of things we'll want to do once per epoch:\n",
        "\n",
        "-   Perform validation by checking our relative loss on a set of data\n",
        "    that was not used for training, and report this\n",
        "-   Save a copy of the model\n",
        "\n",
        "Here, we'll do our reporting in TensorBoard. This will require going to\n",
        "the command line to start TensorBoard, and opening it in another browser\n",
        "tab.\n"
      ]
    },
    {
      "cell_type": "code",
      "execution_count": null,
      "metadata": {
        "id": "2OEmZeNlituf",
        "colab": {
          "base_uri": "https://localhost:8080/"
        },
        "outputId": "a4dfd778-72a0-4dd3-9c71-0882d4604687"
      },
      "outputs": [
        {
          "output_type": "stream",
          "name": "stdout",
          "text": [
            "EPOCH 1:\n",
            "  batch 1000 loss: 1.7178560031503438\n",
            "  batch 2000 loss: 0.8329372847066261\n",
            "  batch 3000 loss: 0.7182923618480563\n",
            "  batch 4000 loss: 0.6538553916090168\n",
            "  batch 5000 loss: 0.6087275083777495\n",
            "  batch 6000 loss: 0.5866723319522571\n",
            "  batch 7000 loss: 0.5465850893631578\n",
            "  batch 8000 loss: 0.4981491642235778\n",
            "  batch 9000 loss: 0.5136835137263842\n",
            "  batch 10000 loss: 0.4930239521795884\n",
            "  batch 11000 loss: 0.47267223357676996\n",
            "  batch 12000 loss: 0.46694781619217246\n",
            "  batch 13000 loss: 0.4423282508990378\n",
            "  batch 14000 loss: 0.43880969117514906\n",
            "  batch 15000 loss: 0.43322261795203665\n",
            "LOSS train 0.43322261795203665 valid 0.4343448877334595\n",
            "EPOCH 2:\n",
            "  batch 1000 loss: 0.4364741631228826\n",
            "  batch 2000 loss: 0.40445770032226575\n",
            "  batch 3000 loss: 0.4319373288078641\n",
            "  batch 4000 loss: 0.4011554546951083\n",
            "  batch 5000 loss: 0.3896297546850401\n",
            "  batch 6000 loss: 0.39350557319895596\n",
            "  batch 7000 loss: 0.3765589854234422\n",
            "  batch 8000 loss: 0.39092115526343696\n",
            "  batch 9000 loss: 0.3816959653586382\n",
            "  batch 10000 loss: 0.4001712359960657\n",
            "  batch 11000 loss: 0.33863586263667095\n",
            "  batch 12000 loss: 0.3839718965521897\n",
            "  batch 13000 loss: 0.35278499214109615\n",
            "  batch 14000 loss: 0.3529513829246862\n",
            "  batch 15000 loss: 0.35859551910776644\n",
            "LOSS train 0.35859551910776644 valid 0.37126225233078003\n",
            "EPOCH 3:\n",
            "  batch 1000 loss: 0.33198951014962225\n",
            "  batch 2000 loss: 0.3433399353977875\n",
            "  batch 3000 loss: 0.33741328588599573\n",
            "  batch 4000 loss: 0.32271908685291417\n",
            "  batch 5000 loss: 0.32831654504603647\n",
            "  batch 6000 loss: 0.3284446462453634\n",
            "  batch 7000 loss: 0.32455743672669635\n",
            "  batch 8000 loss: 0.34953748737783463\n",
            "  batch 9000 loss: 0.33987611797134015\n",
            "  batch 10000 loss: 0.3370796999665763\n",
            "  batch 11000 loss: 0.334690671143544\n",
            "  batch 12000 loss: 0.3337831819281564\n",
            "  batch 13000 loss: 0.3319040685647924\n",
            "  batch 14000 loss: 0.3241597324858303\n",
            "  batch 15000 loss: 0.3068353510025918\n",
            "LOSS train 0.3068353510025918 valid 0.33791831135749817\n",
            "EPOCH 4:\n",
            "  batch 1000 loss: 0.31213418183344765\n",
            "  batch 2000 loss: 0.3102994900062222\n",
            "  batch 3000 loss: 0.3089012575194574\n",
            "  batch 4000 loss: 0.31659749602191734\n",
            "  batch 5000 loss: 0.28242580680186075\n",
            "  batch 6000 loss: 0.29763970677304313\n",
            "  batch 7000 loss: 0.31696509039317605\n",
            "  batch 8000 loss: 0.2905310807321439\n",
            "  batch 9000 loss: 0.3067945458881295\n",
            "  batch 10000 loss: 0.33033325480615894\n",
            "  batch 11000 loss: 0.2828276542984859\n",
            "  batch 12000 loss: 0.29081892772867285\n",
            "  batch 13000 loss: 0.31713584657815225\n",
            "  batch 14000 loss: 0.2818511877455749\n",
            "  batch 15000 loss: 0.28864670899428163\n",
            "LOSS train 0.28864670899428163 valid 0.32431530952453613\n",
            "EPOCH 5:\n",
            "  batch 1000 loss: 0.29200855179044083\n",
            "  batch 2000 loss: 0.29745951312291435\n",
            "  batch 3000 loss: 0.252116893186143\n",
            "  batch 4000 loss: 0.29470572201675893\n",
            "  batch 5000 loss: 0.2727033117582741\n",
            "  batch 6000 loss: 0.28988216879295214\n",
            "  batch 7000 loss: 0.26967359612903236\n",
            "  batch 8000 loss: 0.29791756011780673\n",
            "  batch 9000 loss: 0.27804435280552026\n",
            "  batch 10000 loss: 0.2712537100860063\n",
            "  batch 11000 loss: 0.28532207100350204\n",
            "  batch 12000 loss: 0.27741110884261433\n",
            "  batch 13000 loss: 0.27876854129909046\n",
            "  batch 14000 loss: 0.27033096961091724\n",
            "  batch 15000 loss: 0.2974280018360005\n",
            "LOSS train 0.2974280018360005 valid 0.30923333764076233\n"
          ]
        }
      ],
      "source": [
        "# Initializing in a separate cell so we can easily add more epochs to the same run\n",
        "timestamp = datetime.now().strftime('%Y%m%d_%H%M%S')\n",
        "writer = SummaryWriter('runs/fashion_trainer_{}'.format(timestamp))\n",
        "epoch_number = 0\n",
        "\n",
        "EPOCHS = 5\n",
        "\n",
        "best_vloss = 1_000_000.\n",
        "\n",
        "for epoch in range(EPOCHS):\n",
        "    print('EPOCH {}:'.format(epoch_number + 1))\n",
        "\n",
        "    # Make sure gradient tracking is on, and do a pass over the data\n",
        "    model.train(True)\n",
        "    avg_loss = train_one_epoch(epoch_number, writer)\n",
        "\n",
        "\n",
        "    running_vloss = 0.0\n",
        "    # Set the model to evaluation mode, disabling dropout and using population\n",
        "    # statistics for batch normalization.\n",
        "    model.eval()\n",
        "\n",
        "    # Disable gradient computation and reduce memory consumption.\n",
        "    with torch.no_grad():\n",
        "        for i, vdata in enumerate(validation_loader):\n",
        "            vinputs, vlabels = vdata\n",
        "            voutputs = model(vinputs)\n",
        "            vloss = loss_fn(voutputs, vlabels)\n",
        "            running_vloss += vloss\n",
        "\n",
        "    avg_vloss = running_vloss / (i + 1)\n",
        "    print('LOSS train {} valid {}'.format(avg_loss, avg_vloss))\n",
        "\n",
        "    # Log the running loss averaged per batch\n",
        "    # for both training and validation\n",
        "    writer.add_scalars('Training vs. Validation Loss',\n",
        "                    { 'Training' : avg_loss, 'Validation' : avg_vloss },\n",
        "                    epoch_number + 1)\n",
        "    writer.flush()\n",
        "\n",
        "    # Track best performance, and save the model's state\n",
        "    if avg_vloss < best_vloss:\n",
        "        best_vloss = avg_vloss\n",
        "        model_path = 'model_{}_{}'.format(timestamp, epoch_number)\n",
        "        torch.save(model.state_dict(), model_path)\n",
        "\n",
        "    epoch_number += 1"
      ]
    },
    {
      "cell_type": "markdown",
      "metadata": {
        "id": "jDvcJL7iitug"
      },
      "source": [
        "To load a saved version of the model:\n",
        "\n",
        "``` {.python}\n",
        "saved_model = GarmentClassifier()\n",
        "saved_model.load_state_dict(torch.load(PATH))\n",
        "```\n",
        "\n",
        "Once you've loaded the model, it's ready for whatever you need it for\n",
        "-more training, inference, or analysis.\n",
        "\n",
        "Note that if your model has constructor parameters that affect model\n",
        "structure, you'll need to provide them and configure the model\n",
        "identically to the state in which it was saved.\n",
        "\n",
        "Other Resources\n",
        "===============\n",
        "\n",
        "-   Docs on the [data\n",
        "    utilities](https://pytorch.org/docs/stable/data.html), including\n",
        "    Dataset and DataLoader, at pytorch.org\n",
        "-   A [note on the use of pinned\n",
        "    memory](https://pytorch.org/docs/stable/notes/cuda.html#cuda-memory-pinning)\n",
        "    for GPU training\n",
        "-   Documentation on the datasets available in\n",
        "    [TorchVision](https://pytorch.org/vision/stable/datasets.html),\n",
        "    [TorchText](https://pytorch.org/text/stable/datasets.html), and\n",
        "    [TorchAudio](https://pytorch.org/audio/stable/datasets.html)\n",
        "-   Documentation on the [loss\n",
        "    functions](https://pytorch.org/docs/stable/nn.html#loss-functions)\n",
        "    available in PyTorch\n",
        "-   Documentation on the [torch.optim\n",
        "    package](https://pytorch.org/docs/stable/optim.html), which includes\n",
        "    optimizers and related tools, such as learning rate scheduling\n",
        "-   A detailed [tutorial on saving and loading\n",
        "    models](https://pytorch.org/tutorials/beginner/saving_loading_models.html)\n",
        "-   The [Tutorials section of\n",
        "    pytorch.org](https://pytorch.org/tutorials/) contains tutorials on a\n",
        "    broad variety of training tasks, including classification in\n",
        "    different domains, generative adversarial networks, reinforcement\n",
        "    learning, and more\n"
      ]
    }
  ],
  "metadata": {
    "kernelspec": {
      "display_name": "Python 3",
      "name": "python3"
    },
    "language_info": {
      "codemirror_mode": {
        "name": "ipython",
        "version": 3
      },
      "file_extension": ".py",
      "mimetype": "text/x-python",
      "name": "python",
      "nbconvert_exporter": "python",
      "pygments_lexer": "ipython3",
      "version": "3.10.12"
    },
    "colab": {
      "provenance": [],
      "gpuType": "T4"
    },
    "accelerator": "GPU"
  },
  "nbformat": 4,
  "nbformat_minor": 0
}